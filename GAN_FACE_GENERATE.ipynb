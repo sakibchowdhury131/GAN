{
  "nbformat": 4,
  "nbformat_minor": 0,
  "metadata": {
    "colab": {
      "name": "GAN_FACE_GENERATE.ipynb",
      "provenance": [],
      "collapsed_sections": [],
      "mount_file_id": "15qEtTdVKE-sses18MlmkEVMJu-uWhJbz",
      "authorship_tag": "ABX9TyMn3r/e8F378gRMSMzaYziw",
      "include_colab_link": true
    },
    "kernelspec": {
      "display_name": "Python 3",
      "name": "python3"
    },
    "language_info": {
      "name": "python"
    }
  },
  "cells": [
    {
      "cell_type": "markdown",
      "metadata": {
        "id": "view-in-github",
        "colab_type": "text"
      },
      "source": [
        "<a href=\"https://colab.research.google.com/github/sakibchowdhury131/GAN/blob/main/GAN_FACE_GENERATE.ipynb\" target=\"_parent\"><img src=\"https://colab.research.google.com/assets/colab-badge.svg\" alt=\"Open In Colab\"/></a>"
      ]
    },
    {
      "cell_type": "code",
      "metadata": {
        "id": "epGADa68tw6C"
      },
      "source": [
        "import os\n",
        "import numpy as np\n",
        "\n",
        "\n",
        "import keras \n",
        "from keras.models import Sequential, Model\n",
        "from keras.layers import Activation, Reshape, Conv2DTranspose, UpSampling2D, Dense, Conv2D, BatchNormalization, Dropout, Flatten, Input\n",
        "from keras.optimizers import RMSprop\n",
        "from keras.utils import plot_model\n",
        "\n",
        "import pandas as pd\n",
        "import matplotlib.pyplot as plt \n",
        "%matplotlib inline"
      ],
      "execution_count": null,
      "outputs": []
    },
    {
      "cell_type": "code",
      "metadata": {
        "id": "YzkVgbqbt4Y3"
      },
      "source": [
        "def testModel(img_width, img_height, filters, kernel, strides ):\n",
        "  inp = Input((img_width, img_height, 1))\n",
        "  conv1 = Conv2D(filters= filters, kernel_size= kernel, strides = strides, padding = 'same')(inp)\n",
        "\n",
        "  model = Model(inputs = inp, outputs = conv1)\n",
        "  model.summary()\n",
        "  return model "
      ],
      "execution_count": null,
      "outputs": []
    },
    {
      "cell_type": "code",
      "metadata": {
        "colab": {
          "background_save": true,
          "base_uri": "https://localhost:8080/",
          "height": 323
        },
        "id": "sUFmIldHv1CX",
        "outputId": "f7a3eea7-59b7-4a53-bc09-827c36ec53ed"
      },
      "source": [
        "testModel(64,64,32,2,2)"
      ],
      "execution_count": null,
      "outputs": [
        {
          "output_type": "stream",
          "text": [
            "Model: \"model_2\"\n",
            "_________________________________________________________________\n",
            "Layer (type)                 Output Shape              Param #   \n",
            "=================================================================\n",
            "input_4 (InputLayer)         [(None, 64, 64, 1)]       0         \n",
            "_________________________________________________________________\n",
            "conv2d_2 (Conv2D)            (None, 32, 32, 32)        64        \n",
            "=================================================================\n",
            "Total params: 64\n",
            "Trainable params: 64\n",
            "Non-trainable params: 0\n",
            "_________________________________________________________________\n"
          ],
          "name": "stdout"
        },
        {
          "output_type": "execute_result",
          "data": {
            "text/plain": [
              "<tensorflow.python.keras.engine.functional.Functional at 0x7fadec05a690>"
            ]
          },
          "metadata": {
            "tags": []
          },
          "execution_count": 0
        }
      ]
    }
  ]
}